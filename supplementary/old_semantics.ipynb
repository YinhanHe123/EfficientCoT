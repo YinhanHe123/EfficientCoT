{
 "cells": [
  {
   "cell_type": "code",
   "execution_count": null,
   "metadata": {},
   "outputs": [],
   "source": [
    "['Winter is almost here and most animals are migrating to warmer countries. There are 41 bird families living near the mountain. If 35 bird families flew away to asia and 62 bird families flew away to africa How many more bird families flew away to africa than those that flew away to asia?',\n",
    " '26 children were riding on the bus. At the bus stop 38 more children got on the bus. How many children are on the bus now?',\n",
    " 'Paco had 41 cookies. He gave 9 cookies to his friend and ate 18 cookies. How many more cookies did he eat than those he gave to his friend?']"
   ]
  },
  {
   "cell_type": "code",
   "execution_count": null,
   "metadata": {},
   "outputs": [],
   "source": [
    "text = \"\"\"As winter approaches, 41 bird families live near the mountain. If 35 families migrated to Asia and 62 to Africa, how many more bird families went to Africa than Asia?\n",
    "Winter is coming, and 41 bird families inhabit the mountain area. With 35 bird families choosing Asia and 62 selecting Africa as winter destinations, calculate the difference between those heading to Africa versus Asia.\n",
    "Near the mountain, 41 bird families prepare for winter. If 35 families migrate to Asia while 62 head to Africa, find the difference in the number of families that chose Africa over Asia.\n",
    "Of the 41 bird families living by the mountain, 35 migrated to Asia and 62 to Africa for winter. What is the numerical difference between families that went to Africa compared to Asia?\n",
    "Winter's cold is approaching the mountain where 41 bird families live. If 35 families flee to Asia's warmth and 62 seek refuge in Africa, by how many does the Africa-bound group exceed the Asia-bound group?\n",
    "With winter on its way, birds are leaving the mountain region. If 35 of the 41 local bird families traveled to Asia and 62 went to Africa, how many more chose Africa than Asia?\n",
    "The mountain area has 41 bird families preparing for winter migration. When 35 families fly to Asia and 62 to Africa, determine how many more families chose Africa over Asia.\n",
    "Forty-one bird families normally reside near the mountain. If 35 bird families migrate to Asia for winter while 62 fly to Africa, what's the difference between these two migrating groups?\n",
    "As the cold season approaches, 41 bird families near the mountain prepare to migrate. With 35 families flying to Asia and 62 to Africa, calculate how many more families chose Africa as their destination.\n",
    "Bird families living near the mountain (41 in total) are preparing for winter migration. If Asia receives 35 families and Africa welcomes 62, by what number does Africa's count exceed Asia's?\n",
    "Harsh winter is coming to the mountain where 41 bird families live. Calculate the difference between the 62 families that migrated to Africa and the 35 that flew to Asia.\n",
    "The mountain region has 41 bird families. For winter, 35 families migrate to Asia while 62 head to Africa. How many more bird families chose Africa than Asia?\n",
    "With winter's arrival imminent, birds are migrating from the mountain. If 35 of the 41 bird families choose Asia while 62 select Africa, find the numerical advantage of Africa-bound families.\n",
    "As temperatures drop near the mountain where 41 bird families reside, 35 families migrate to Asia and 62 to Africa. What is the difference between these two groups?\n",
    "Winter approaches the mountain habitat of 41 bird families. When 35 families fly to Asian countries and 62 to African nations, how many more families will Africa receive than Asia?\n",
    "From the mountain region's 41 bird families, 35 migrate to Asia for winter while 62 choose Africa. Find how many more families selected Africa over Asia.\n",
    "Forty-one bird families call the mountain area home. With winter coming, 35 families migrate to Asia and 62 to Africa. Calculate the difference between Africa-bound and Asia-bound families.\n",
    "The mountain is home to 41 bird families, but winter is approaching. If 35 families migrate to Asia and 62 to Africa, by how much does the Africa group outnumber the Asia group?\n",
    "As winter looms, 41 bird families near the mountain prepare to leave. If 35 families head to Asia and 62 to Africa, what's the difference between these migration counts?\n",
    "Winter's chill drives migration from the mountain where 41 bird families live. When 35 families choose Asian destinations and 62 opt for African lands, determine how many more families will arrive in Africa than in Asia.\"\"\""
   ]
  },
  {
   "cell_type": "code",
   "execution_count": null,
   "metadata": {},
   "outputs": [],
   "source": [
    "text = \"\"\"Paco started with 41 cookies. He gave 9 to his friend and ate 18 himself. How many more cookies did he eat than give away?\n",
    "With 41 cookies in his possession, Paco shared 9 with a friend and consumed 18. Calculate how many more cookies he ate than he shared.\n",
    "Paco had a batch of 41 cookies. After giving 9 to his friend and eating 18, determine the difference between the number he ate and the number he gave away.\n",
    "Forty-one cookies belonged to Paco. He gave 9 cookies to his friend and ate 18 cookies himself. What is the difference between the cookies he ate and those he gave away?\n",
    "Paco's cookie jar contained 41 cookies. He decided to give 9 to his friend and then ate 18 cookies. How many more cookies did Paco eat compared to what he gave to his friend?\n",
    "Starting with 41 cookies, Paco gave 9 to his friend and enjoyed 18 himself. By how many did the cookies he ate exceed those he gave away?\n",
    "Paco began with 41 cookies in total. After giving his friend 9 cookies and eating 18 himself, find the difference between what he ate and what he shared.\n",
    "Out of his 41 cookies, Paco gave 9 to a friend and consumed 18. How many more cookies did he eat than give to his friend?\n",
    "Paco had 41 delicious cookies. He shared 9 with his friend and ate 18. Calculate the difference between the number of cookies Paco ate and those he shared.\n",
    "With a total of 41 cookies, Paco gave away 9 to his friend and ate 18. How many more cookies did he consume than donate?\n",
    "Forty-one cookies were in Paco's possession. After giving 9 cookies to his friend and eating 18 for himself, what was the difference between eaten and given cookies?\n",
    "Paco counted 41 cookies in his lunchbox. He gave 9 cookies to his friend and ate 18 cookies during the day. By how many did the eaten cookies exceed the shared ones?\n",
    "Paco's mom baked him 41 cookies. If he gave 9 to his friend and ate 18, find the difference between the quantity he ate and the quantity he gave away.\n",
    "Paco had a collection of 41 cookies. When he gave 9 to his friend and ate 18 himself, how many more cookies did he eat than share?\n",
    "Starting with 41 cookies, Paco decided to give 9 to his friend. Later, he ate 18 cookies. Calculate how many more cookies Paco ate than gave to his friend.\n",
    "Paco brought 41 cookies to school. After giving 9 to his friend and eating 18 during lunch, what is the difference between the number he ate and the number he shared?\n",
    "With 41 cookies in his backpack, Paco shared 9 with his friend and consumed 18 throughout the day. How many more cookies did he eat compared to what he gave away?\n",
    "Paco had 41 cookies. He gave 9 cookies to his friend and kept the rest. If he then ate 18 cookies, how many more did he eat than give to his friend?\n",
    "Forty-one cookies were baked for Paco. He decided to give 9 to his friend and ate 18 himself. What is the numerical difference between cookies eaten and cookies shared?\"\"\""
   ]
  },
  {
   "cell_type": "code",
   "execution_count": null,
   "metadata": {},
   "outputs": [],
   "source": [
    "{'Winter is almost here and most animals are migrating to warmer countries. There are 41 bird families living near the mountain. If 35 bird families flew away to asia and 62 bird families flew away to africa How many more bird families flew away to africa than those that flew away to asia?': ['As winter approaches, 41 bird families live near the mountain. If 35 families migrated to Asia and 62 to Africa, how many more bird families went to Africa than Asia?',\n",
    "  'Winter is coming, and 41 bird families inhabit the mountain area. With 35 bird families choosing Asia and 62 selecting Africa as winter destinations, calculate the difference between those heading to Africa versus Asia.',\n",
    "  'Near the mountain, 41 bird families prepare for winter. If 35 families migrate to Asia while 62 head to Africa, find the difference in the number of families that chose Africa over Asia.',\n",
    "  'Of the 41 bird families living by the mountain, 35 migrated to Asia and 62 to Africa for winter. What is the numerical difference between families that went to Africa compared to Asia?',\n",
    "  \"Winter's cold is approaching the mountain where 41 bird families live. If 35 families flee to Asia's warmth and 62 seek refuge in Africa, by how many does the Africa-bound group exceed the Asia-bound group?\",\n",
    "  'With winter on its way, birds are leaving the mountain region. If 35 of the 41 local bird families traveled to Asia and 62 went to Africa, how many more chose Africa than Asia?',\n",
    "  'The mountain area has 41 bird families preparing for winter migration. When 35 families fly to Asia and 62 to Africa, determine how many more families chose Africa over Asia.',\n",
    "  \"Forty-one bird families normally reside near the mountain. If 35 bird families migrate to Asia for winter while 62 fly to Africa, what's the difference between these two migrating groups?\",\n",
    "  'As the cold season approaches, 41 bird families near the mountain prepare to migrate. With 35 families flying to Asia and 62 to Africa, calculate how many more families chose Africa as their destination.',\n",
    "  \"Bird families living near the mountain (41 in total) are preparing for winter migration. If Asia receives 35 families and Africa welcomes 62, by what number does Africa's count exceed Asia's?\",\n",
    "  'Harsh winter is coming to the mountain where 41 bird families live. Calculate the difference between the 62 families that migrated to Africa and the 35 that flew to Asia.',\n",
    "  'The mountain region has 41 bird families. For winter, 35 families migrate to Asia while 62 head to Africa. How many more bird families chose Africa than Asia?',\n",
    "  \"With winter's arrival imminent, birds are migrating from the mountain. If 35 of the 41 bird families choose Asia while 62 select Africa, find the numerical advantage of Africa-bound families.\",\n",
    "  'As temperatures drop near the mountain where 41 bird families reside, 35 families migrate to Asia and 62 to Africa. What is the difference between these two groups?',\n",
    "  'Winter approaches the mountain habitat of 41 bird families. When 35 families fly to Asian countries and 62 to African nations, how many more families will Africa receive than Asia?',\n",
    "  \"From the mountain region's 41 bird families, 35 migrate to Asia for winter while 62 choose Africa. Find how many more families selected Africa over Asia.\",\n",
    "  'Forty-one bird families call the mountain area home. With winter coming, 35 families migrate to Asia and 62 to Africa. Calculate the difference between Africa-bound and Asia-bound families.',\n",
    "  'The mountain is home to 41 bird families, but winter is approaching. If 35 families migrate to Asia and 62 to Africa, by how much does the Africa group outnumber the Asia group?',\n",
    "  \"As winter looms, 41 bird families near the mountain prepare to leave. If 35 families head to Asia and 62 to Africa, what's the difference between these migration counts?\"],\n",
    " '26 children were riding on the bus. At the bus stop 38 more children got on the bus. How many children are on the bus now?': ['A bus had 26 children riding on it. After 38 more children boarded at a stop, how many children are on the bus now?',\n",
    "  'Initially, 26 children were traveling on the bus. When the bus stopped, an additional 38 children got on. What is the total number of children on the bus?',\n",
    "  'The bus was carrying 26 children. At a bus stop, 38 more children boarded. How many children are riding the bus after the stop?',\n",
    "  'Twenty-six children were already on the bus when it came to a stop. After 38 more children got on, what is the new total of children on the bus?',\n",
    "  'There were 26 children riding on a bus. The bus made a stop and 38 more children climbed aboard. Calculate how many children are now on the bus altogether.',\n",
    "  'A school bus had 26 young passengers. At the next stop, 38 more children boarded the vehicle. What is the total number of children now riding on the bus?',\n",
    "  'Before reaching the bus stop, 26 children were already seated on the bus. Once 38 additional children boarded at the stop, how many children in total were on the bus?',\n",
    "  'The bus was transporting 26 children down the road. When it stopped, 38 additional children got on. Find the total number of children now on the bus.',\n",
    "  'With 26 children already aboard the bus, it made a stop where 38 more children entered. How many children are currently on the bus?',\n",
    "  'A city bus was carrying 26 children. After making a scheduled stop, 38 more children boarded. What is the new total number of children on the bus?',\n",
    "  'Twenty-six children were traveling by bus. At one of the stops, 38 more kids joined them. How many children are now riding on the bus?',\n",
    "  'The bus driver counted 26 children on the bus. After stopping to pick up 38 more children, how many children does the driver now have on the bus?',\n",
    "  'A group of 26 children were riding the bus when it stopped to let 38 more children board. Calculate the total number of children on the bus after this stop.',\n",
    "  'Initially, the bus was carrying 26 children to school. When the bus made a stop, 38 additional children boarded. How many children are now on the bus in total?',\n",
    "  'There were 26 children on the bus traveling down the road. At the bus stop, 38 more children climbed aboard. What is the total number of children now riding the bus?',\n",
    "  'The bus started its route with 26 children. After picking up 38 more children at a stop, how many children are now traveling on the bus?',\n",
    "  'Twenty-six young passengers were on the bus before it reached the next stop. After 38 more children boarded at that stop, find the total number of children now on the bus.',\n",
    "  'The bus was carrying 26 kids when it pulled up to a stop. Once 38 more children got on, how many total children were riding the bus?',\n",
    "  'A local bus had 26 children on board. When the bus made a scheduled stop, 38 additional children climbed aboard. Calculate the number of children currently on the bus.']}"
   ]
  }
 ],
 "metadata": {
  "language_info": {
   "name": "python"
  }
 },
 "nbformat": 4,
 "nbformat_minor": 2
}
