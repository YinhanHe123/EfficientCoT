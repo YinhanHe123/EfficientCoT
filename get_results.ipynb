{
 "cells": [
  {
   "cell_type": "code",
   "execution_count": 4,
   "metadata": {},
   "outputs": [],
   "source": [
    "import json\n",
    "import os\n",
    "\n",
    "import numpy as np\n",
    "\n",
    "res_dir = \"/home/nee7ne/EfficientCoT/results\"\n",
    "methods = ['coconut', 'codi', 'icot_si', 'pause', 'softcot', 'effi_cot']\n",
    "datasets = [\"coin_flip\", \"commonsense_qa\", \"gsm8k\", \"multiarith\", \"svamp\"]\n",
    "models = [\"small\", \"mistral\"]\n",
    "res = {}\n",
    "\n",
    "for mo in models:\n",
    "    res[mo] = {}\n",
    "    for me in methods:\n",
    "        res[mo][me] = {}\n",
    "        for d in datasets:\n",
    "            res[mo][me][d] = {}\n",
    "            file = f\"{res_dir}/{me}/{mo}/{d}/evaluation_results.jsonl\"\n",
    "            if me == \"effi_cot\":\n",
    "                file = f\"{res_dir}/{me}/vanilla/{mo}/{d}/evaluation_results.jsonl\"\n",
    "            if not os.path.exists(file):\n",
    "                continue\n",
    "            with open(file) as f:\n",
    "                lines = f.readlines()\n",
    "                # idx = [i for i, l in enumerate(lines) if l == \"\\n\"]\n",
    "                # if len(idx) == 0:\n",
    "                #     idx = 0\n",
    "                # elif idx[-1] == len(lines) - 1:\n",
    "                #     idx = 0\n",
    "                # else:\n",
    "                #     idx = idx[-1] + 1\n",
    "                lines = [json.loads(l) for l in lines[:15] if l != \"\\n\"]\n",
    "            summary = {}\n",
    "            for l in lines:\n",
    "                if l['eval_temp'] not in summary:\n",
    "                    summary[l['eval_temp']] = {'acc': [], 'time': []}\n",
    "                summary[l['eval_temp']]['acc'].append(l['numerical_accuracy'] * 100)\n",
    "                summary[l['eval_temp']]['time'].append(l['ave_sample_time'])\n",
    "            best_temp, max_acc = 0, -1\n",
    "            for temp in summary:\n",
    "                if np.mean(summary[temp]['acc']) > max_acc:\n",
    "                    best_temp = temp\n",
    "                    max_acc = np.mean(summary[temp]['acc'])\n",
    "            res[mo][me][d] = {'acc': summary[best_temp]['acc'], 'time': summary[best_temp]['time']}\n"
   ]
  },
  {
   "cell_type": "code",
   "execution_count": 11,
   "metadata": {},
   "outputs": [
    {
     "name": "stdout",
     "output_type": "stream",
     "text": [
      "32.67 \\scriptsize{± 1.93}\t66.33 \\scriptsize{± 11.05}\t25.33 \\scriptsize{± 0.85}\t50.50 \\scriptsize{± 0.00}\t73.17 \\scriptsize{± 1.25}\t90.00 \\scriptsize{± 9.91}\t\n",
      "1.99 \\scriptsize{± 0.12}\t4.08 \\scriptsize{± 0.12}\t2.22 \\scriptsize{± 0.01}\t3.14 \\scriptsize{± 0.00}\t1.31 \\scriptsize{± 0.00}\t1.32 \\scriptsize{± 0.00}\t\n",
      "13.00 \\scriptsize{± 0.41}\t74.50 \\scriptsize{± 12.29}\t20.00 \\scriptsize{± 1.41}\t50.00 \\scriptsize{± 0.00}\t63.50 \\scriptsize{± 0.41}\t76.83 \\scriptsize{± 10.02}\t\n",
      "1.62 \\scriptsize{± 0.01}\t3.89 \\scriptsize{± 0.01}\t2.24 \\scriptsize{± 0.00}\t2.67 \\scriptsize{± 0.01}\t1.27 \\scriptsize{± 0.07}\t1.26 \\scriptsize{± 0.02}\t\n",
      "6.50 \\scriptsize{± 1.22}\t8.17 \\scriptsize{± 5.07}\t9.83 \\scriptsize{± 0.24}\t4.67 \\scriptsize{± 0.62}\t2.17 \\scriptsize{± 0.47}\t11.00 \\scriptsize{± 6.72}\t\n",
      "1.58 \\scriptsize{± 0.01}\t2.82 \\scriptsize{± 1.61}\t1.93 \\scriptsize{± 0.23}\t3.40 \\scriptsize{± 0.03}\t1.35 \\scriptsize{± 0.01}\t1.31 \\scriptsize{± 0.00}\t\n",
      "2.23 \\scriptsize{± 0.45}\t8.17 \\scriptsize{± 7.34}\t2.80 \\scriptsize{± 0.90}\t0.57 \\scriptsize{± 0.45}\t4.43 \\scriptsize{± 1.20}\t10.73 \\scriptsize{± 0.52}\t\n",
      "1.57 \\scriptsize{± 0.01}\t4.15 \\scriptsize{± 0.37}\t2.26 \\scriptsize{± 0.00}\t3.56 \\scriptsize{± 0.11}\t1.43 \\scriptsize{± 0.06}\t1.28 \\scriptsize{± 0.03}\t\n",
      "8.50 \\scriptsize{± 1.22}\t11.33 \\scriptsize{± 4.52}\t19.67 \\scriptsize{± 5.57}\t16.17 \\scriptsize{± 4.73}\t6.17 \\scriptsize{± 0.94}\t43.67 \\scriptsize{± 2.09}\t\n",
      "1.58 \\scriptsize{± 0.01}\t3.19 \\scriptsize{± 0.53}\t0.52 \\scriptsize{± 0.03}\t3.32 \\scriptsize{± 0.04}\t1.31 \\scriptsize{± 0.00}\t1.30 \\scriptsize{± 0.02}\t\n",
      "2.17 \\scriptsize{± 1.25}\t87.17 \\scriptsize{± 18.15}\t33.83 \\scriptsize{± 2.87}\t50.00 \\scriptsize{± 0.00}\t41.00 \\scriptsize{± 2.55}\t87.83 \\scriptsize{± 6.54}\t\n",
      "1.68 \\scriptsize{± 0.00}\t4.32 \\scriptsize{± 0.04}\t2.30 \\scriptsize{± 0.00}\t3.74 \\scriptsize{± 0.02}\t1.39 \\scriptsize{± 0.00}\t1.37 \\scriptsize{± 0.01}\t\n",
      "14.50 \\scriptsize{± 0.00}\t80.17 \\scriptsize{± 16.41}\t21.17 \\scriptsize{± 2.05}\t63.50 \\scriptsize{± 0.00}\t62.67 \\scriptsize{± 1.18}\t81.67 \\scriptsize{± 2.78}\t\n",
      "1.67 \\scriptsize{± 0.00}\t4.14 \\scriptsize{± 0.00}\t2.29 \\scriptsize{± 0.00}\t3.71 \\scriptsize{± 0.03}\t1.37 \\scriptsize{± 0.00}\t1.35 \\scriptsize{± 0.03}\t\n",
      "9.67 \\scriptsize{± 0.24}\t4.33 \\scriptsize{± 3.47}\t14.67 \\scriptsize{± 2.09}\t2.33 \\scriptsize{± 1.65}\t2.50 \\scriptsize{± 0.41}\t14.33 \\scriptsize{± 0.62}\t\n",
      "1.68 \\scriptsize{± 0.01}\t4.96 \\scriptsize{± 0.03}\t1.72 \\scriptsize{± 0.08}\t3.46 \\scriptsize{± 0.02}\t1.39 \\scriptsize{± 0.00}\t1.39 \\scriptsize{± 0.00}\t\n",
      "2.43 \\scriptsize{± 0.52}\t19.47 \\scriptsize{± 9.32}\t3.67 \\scriptsize{± 0.52}\t1.47 \\scriptsize{± 1.04}\t3.33 \\scriptsize{± 0.45}\t19.07 \\scriptsize{± 2.23}\t\n",
      "1.68 \\scriptsize{± 0.01}\t4.45 \\scriptsize{± 0.62}\t2.32 \\scriptsize{± 0.01}\t3.64 \\scriptsize{± 0.13}\t1.37 \\scriptsize{± 0.00}\t1.50 \\scriptsize{± 0.16}\t\n",
      "34.00 \\scriptsize{± 0.82}\t14.83 \\scriptsize{± 9.10}\t32.50 \\scriptsize{± 3.54}\t7.50 \\scriptsize{± 5.31}\t10.67 \\scriptsize{± 1.03}\t46.17 \\scriptsize{± 1.25}\t\n",
      "1.69 \\scriptsize{± 0.00}\t4.08 \\scriptsize{± 0.03}\t0.90 \\scriptsize{± 0.19}\t3.44 \\scriptsize{± 0.01}\t1.38 \\scriptsize{± 0.00}\t1.37 \\scriptsize{± 0.01}\t\n"
     ]
    }
   ],
   "source": [
    "for mo in models:\n",
    "    for d in sorted(datasets):\n",
    "        acc_line = \"\"\n",
    "        time_line = \"\"\n",
    "        m = \"\"\n",
    "        for me in methods:\n",
    "            m += me + \"\\t\"\n",
    "            cur_acc = \"N/A\\t\"\n",
    "            cur_time = \"N/A\\t\"\n",
    "            if len(res[mo][me][d]) > 0:\n",
    "                cur_acc = f\"{np.mean(res[mo][me][d]['acc']):.2f} \\scriptsize\"+\"{± \"+f\"{np.std(res[mo][me][d]['acc']):.2f}\"+\"}\\t\"\n",
    "                cur_time = f\"{np.mean(res[mo][me][d]['time']):.2f} \\scriptsize\"+\"{± \"+f\"{np.std(res[mo][me][d]['time']):.2f}\"+\"}\\t\"\n",
    "            acc_line += cur_acc\n",
    "            time_line += cur_time\n",
    "        print(acc_line)\n",
    "        print(time_line)"
   ]
  },
  {
   "cell_type": "code",
   "execution_count": 5,
   "metadata": {},
   "outputs": [
    {
     "name": "stdout",
     "output_type": "stream",
     "text": [
      "19.67 ± 5.57\t\n",
      "0.43 ± 0.04\t\n"
     ]
    }
   ],
   "source": [
    "lines = \"\"\"\n",
    "{\"numerical_accuracy\": 0.15, \"close_match_rate\": 0.16, \"mean_relative_error\": 2.825956314567759, \"median_relative_error\": 0.5, \"exp_num\": 0, \"dataset\": \"svamp\", \"eval_temp\": 0.1, \"eval_max_contemp_tokens\": 1, \"ave_sample_time\": 0.3920869755744934}\n",
    "{\"numerical_accuracy\": 0.155, \"close_match_rate\": 0.16, \"mean_relative_error\": 2.914523613480803, \"median_relative_error\": 0.4850980392156863, \"exp_num\": 0, \"dataset\": \"svamp\", \"eval_temp\": 0.3, \"eval_max_contemp_tokens\": 1, \"ave_sample_time\": 0.3932299447059631}\n",
    "{\"numerical_accuracy\": 0.12, \"close_match_rate\": 0.13, \"mean_relative_error\": 2.5612209492440154, \"median_relative_error\": 0.5, \"exp_num\": 0, \"dataset\": \"svamp\", \"eval_temp\": 0.5, \"eval_max_contemp_tokens\": 1, \"ave_sample_time\": 0.39934741020202635}\n",
    "{\"numerical_accuracy\": 0.115, \"close_match_rate\": 0.12, \"mean_relative_error\": 3.3848128990146513, \"median_relative_error\": 0.5, \"exp_num\": 0, \"dataset\": \"svamp\", \"eval_temp\": 0.7, \"eval_max_contemp_tokens\": 1, \"ave_sample_time\": 0.4530379295349121}\n",
    "{\"numerical_accuracy\": 0.105, \"close_match_rate\": 0.11, \"mean_relative_error\": 3.978413661754349, \"median_relative_error\": 0.5652173913043478, \"exp_num\": 0, \"dataset\": \"svamp\", \"eval_temp\": 0.9, \"eval_max_contemp_tokens\": 1, \"ave_sample_time\": 0.5246122753620148}\n",
    "{\"numerical_accuracy\": 0.165, \"close_match_rate\": 0.17, \"mean_relative_error\": 1.926373532544781, \"median_relative_error\": 0.4, \"exp_num\": 1, \"dataset\": \"svamp\", \"eval_temp\": 0.1, \"eval_max_contemp_tokens\": 1, \"ave_sample_time\": 0.4148860025405884}\n",
    "{\"numerical_accuracy\": 0.145, \"close_match_rate\": 0.15, \"mean_relative_error\": 2.3702632672969766, \"median_relative_error\": 0.4469914040114613, \"exp_num\": 1, \"dataset\": \"svamp\", \"eval_temp\": 0.3, \"eval_max_contemp_tokens\": 1, \"ave_sample_time\": 0.43266808152198794}\n",
    "{\"numerical_accuracy\": 0.155, \"close_match_rate\": 0.16, \"mean_relative_error\": 1.9922007326443447, \"median_relative_error\": 0.47409523809523807, \"exp_num\": 1, \"dataset\": \"svamp\", \"eval_temp\": 0.5, \"eval_max_contemp_tokens\": 1, \"ave_sample_time\": 0.45586092948913576}\n",
    "{\"numerical_accuracy\": 0.135, \"close_match_rate\": 0.14, \"mean_relative_error\": 2.765192993955823, \"median_relative_error\": 0.6125, \"exp_num\": 1, \"dataset\": \"svamp\", \"eval_temp\": 0.7, \"eval_max_contemp_tokens\": 1, \"ave_sample_time\": 0.496463885307312}\n",
    "{\"numerical_accuracy\": 0.1, \"close_match_rate\": 0.11, \"mean_relative_error\": 3.472068154724791, \"median_relative_error\": 0.6666666666666666, \"exp_num\": 1, \"dataset\": \"svamp\", \"eval_temp\": 0.9, \"eval_max_contemp_tokens\": 1, \"ave_sample_time\": 0.5225280523300171}\n",
    "{\"numerical_accuracy\": 0.275, \"close_match_rate\": 0.28, \"mean_relative_error\": 2.1516417579580875, \"median_relative_error\": 0.37484993997599036, \"exp_num\": 2, \"dataset\": \"svamp\", \"eval_temp\": 0.1, \"eval_max_contemp_tokens\": 1, \"ave_sample_time\": 0.490375292301178}\n",
    "{\"numerical_accuracy\": 0.275, \"close_match_rate\": 0.28, \"mean_relative_error\": 1.9310918786099907, \"median_relative_error\": 0.37037037037037035, \"exp_num\": 2, \"dataset\": \"svamp\", \"eval_temp\": 0.3, \"eval_max_contemp_tokens\": 1, \"ave_sample_time\": 0.4728516352176666}\n",
    "{\"numerical_accuracy\": 0.275, \"close_match_rate\": 0.285, \"mean_relative_error\": 2.116831502069541, \"median_relative_error\": 0.37717171717171716, \"exp_num\": 2, \"dataset\": \"svamp\", \"eval_temp\": 0.5, \"eval_max_contemp_tokens\": 1, \"ave_sample_time\": 0.48019825100898744}\n",
    "{\"numerical_accuracy\": 0.255, \"close_match_rate\": 0.265, \"mean_relative_error\": 4.181612202777049, \"median_relative_error\": 0.3763888888888889, \"exp_num\": 2, \"dataset\": \"svamp\", \"eval_temp\": 0.7, \"eval_max_contemp_tokens\": 1, \"ave_sample_time\": 0.5109249222278595}\n",
    "{\"numerical_accuracy\": 0.165, \"close_match_rate\": 0.18, \"mean_relative_error\": 2.8756297224063387, \"median_relative_error\": 0.5, \"exp_num\": 2, \"dataset\": \"svamp\", \"eval_temp\": 0.9, \"eval_max_contemp_tokens\": 1, \"ave_sample_time\": 0.501106048822403}\n",
    "\"\"\"\n",
    "lines = lines.split(\"\\n\")[1:-1]\n",
    "idx = [i for i, l in enumerate(lines) if l == \"\\n\"]\n",
    "if len(idx) == 0:\n",
    "    idx = 0\n",
    "elif idx[-1] == len(lines) - 1:\n",
    "    idx = 0\n",
    "else:\n",
    "    idx = idx[-1] + 1\n",
    "lines = [json.loads(l) for l in lines[idx:] if l != \"\\n\"]\n",
    "summary = {}\n",
    "for l in lines:\n",
    "    if l['eval_temp'] not in summary:\n",
    "        summary[l['eval_temp']] = {'acc': [], 'time': []}\n",
    "    summary[l['eval_temp']]['acc'].append(l['numerical_accuracy'] * 100)\n",
    "    summary[l['eval_temp']]['time'].append(l['ave_sample_time'])\n",
    "best_temp, max_acc = 0, -1\n",
    "for temp in summary:\n",
    "    if np.mean(summary[temp]['acc']) > max_acc:\n",
    "        best_temp = temp\n",
    "        max_acc = np.mean(summary[temp]['acc'])\n",
    "        \n",
    "print(f\"{np.mean(summary[best_temp]['acc']):.2f} ± {np.std(summary[best_temp]['acc']):.2f}\\t\")\n",
    "print(f\"{np.mean(summary[best_temp]['time']):.2f} ± {np.std(summary[best_temp]['time']):.2f}\\t\")"
   ]
  },
  {
   "cell_type": "code",
   "execution_count": 7,
   "metadata": {},
   "outputs": [],
   "source": [
    "import json\n",
    "res_path = \"/home/nee7ne/EfficientCoT/results/effi_cot/vanilla/mistral/multiarith/evaluation_results.jsonl\"\n",
    "cur_res = {}\n",
    "with open(res_path, \"r\") as f:\n",
    "    lines = f.readlines()\n",
    "    idx = 0\n",
    "    while idx < len(lines):\n",
    "        if lines[idx].strip() == \"\":\n",
    "            idx +=1\n",
    "            continue\n",
    "        elif json.loads(lines[idx])[\"exp_num\"] != 0:\n",
    "            idx += 1\n",
    "            continue\n",
    "        acc = []\n",
    "        for temp in [0.1, 0.3, 0.5, 0.7, 0.9]:\n",
    "            cur_line = json.loads(lines[idx])\n",
    "            if cur_line['eval_temp'] != temp:\n",
    "                break\n",
    "            acc.append(cur_line['numerical_accuracy'])\n",
    "            idx += 1\n",
    "        cur_params = (cur_line['st_linear_lr'], cur_line['st_linear_wd'], cur_line['st_linear_epochs'], cur_line['st_llm_lr'], cur_line['st_llm_wd'], cur_line['st_llm_epochs'], cur_line['cg_linear_lr'], cur_line['cg_linear_wd'], cur_line['cg_linear_epochs'], cur_line['cg_llm_lr'], cur_line['cg_llm_wd'], cur_line['cg_llm_epochs'])\n",
    "        cur_res[cur_params] = max(acc)"
   ]
  },
  {
   "cell_type": "code",
   "execution_count": 8,
   "metadata": {},
   "outputs": [
    {
     "data": {
      "text/plain": [
       "[((0.0001, 0.001, 3, 1e-05, 0.001, 2, 0.0001, 0.01, 3, 1e-05, 0.001, 1),\n",
       "  0.189),\n",
       " ((0.0001, 0.01, 1, 1e-07, 0.001, 2, 0.01, 0.0001, 5, 1e-05, 0.001, 1), 0.189),\n",
       " ((0.0001, 0.01, 1, 1e-07, 0.001, 2, 0.01, 0.01, 5, 1e-07, 0.001, 1), 0.189),\n",
       " ((0.0001, 0.01, 1, 1e-07, 0.001, 2, 0.01, 0.0001, 5, 1e-07, 0.001, 2), 0.189),\n",
       " ((0.01, 0.001, 1, 1e-05, 1e-05, 1, 0.0001, 0.001, 1, 1e-07, 0.001, 2), 0.189),\n",
       " ((0.0001, 0.01, 1, 1e-07, 0.001, 2, 0.01, 0.01, 3, 1e-07, 1e-05, 1), 0.2),\n",
       " ((0.001, 0.0001, 3, 1e-07, 1e-05, 1, 0.01, 0.001, 5, 1e-05, 0.001, 1), 0.2),\n",
       " ((0.0001, 0.01, 1, 1e-07, 0.001, 2, 0.001, 0.0001, 1, 1e-05, 0.001, 2),\n",
       "  0.217)]"
      ]
     },
     "execution_count": 8,
     "metadata": {},
     "output_type": "execute_result"
    }
   ],
   "source": [
    "sorted([(k,v) for k, v in cur_res.items() if v >= 0.185], key=lambda x: x[1])"
   ]
  },
  {
   "cell_type": "code",
   "execution_count": 7,
   "metadata": {},
   "outputs": [
    {
     "data": {
      "text/plain": [
       "(0.0001, 0.01, 1, 1e-07, 0.001, 2, 0.001, 0.0001, 5, 1e-07, 0.001, 1)"
      ]
     },
     "execution_count": 7,
     "metadata": {},
     "output_type": "execute_result"
    }
   ],
   "source": [
    "cur_line ={\"numerical_accuracy\": 0.211, \"close_match_rate\": 0.211, \"mean_relative_error\": 0.4133522429329931, \"median_relative_error\": 0.2, \"exp_num\": 0, \"dataset\": \"multiarith\", \"eval_temp\": 0.9, \"ave_sample_time\": 1.3804727421866523, \"student\": \"optimum/mistral-1.1b-testing\", \"teacher\": \"mistralai/Mistral-7B-Instruct-v0.2\", \"st_linear_lr\": 0.0001, \"st_linear_wd\": 0.01, \"st_linear_epochs\": 1, \"st_llm_lr\": 1e-07, \"st_llm_wd\": 0.001, \"st_llm_epochs\": 2, \"cg_linear_lr\": 0.001, \"cg_linear_wd\": 0.0001, \"cg_linear_epochs\": 5, \"cg_llm_lr\": 1e-07, \"cg_llm_wd\": 0.001, \"cg_llm_epochs\": 1, \"train_max_contemp_tokens\": 5, \"eval_max_contemp_tokens\": 1}\n",
    "\n",
    "(cur_line['st_linear_lr'], cur_line['st_linear_wd'], cur_line['st_linear_epochs'], cur_line['st_llm_lr'], cur_line['st_llm_wd'], cur_line['st_llm_epochs'], cur_line['cg_linear_lr'], cur_line['cg_linear_wd'], cur_line['cg_linear_epochs'], cur_line['cg_llm_lr'], cur_line['cg_llm_wd'], cur_line['cg_llm_epochs'])"
   ]
  },
  {
   "cell_type": "code",
   "execution_count": 8,
   "metadata": {},
   "outputs": [
    {
     "name": "stdout",
     "output_type": "stream",
     "text": [
      "python main.py --config mistral --mode effi_cot --dataset multiarith --device 3 --variation vanilla -stllr 0.0001 -stlwd 0.01 -stle 1 -stllmlr 1e-07 -stllmwd 0.001 -stllme 2 -cgllr 0.001 -cglwd 0.0001 -cgle 5 -cgllmlr 1e-07 -cgllmwd 0.001 -cgllme 1\n"
     ]
    }
   ],
   "source": [
    "print(f\"python main.py --config {'small' if 'llama' in cur_line['teacher'] else 'mistral'} --mode effi_cot --dataset {cur_line['dataset']} --device 3 --variation vanilla -stllr {cur_line['st_linear_lr']} -stlwd {cur_line['st_linear_wd']} -stle {cur_line['st_linear_epochs']} -stllmlr {cur_line['st_llm_lr']} -stllmwd {cur_line['st_llm_wd']} -stllme {cur_line['st_llm_epochs']} -cgllr {cur_line['cg_linear_lr']} -cglwd {cur_line['cg_linear_wd']} -cgle {cur_line['cg_linear_epochs']} -cgllmlr {cur_line['cg_llm_lr']} -cgllmwd {cur_line['cg_llm_wd']} -cgllme {cur_line['cg_llm_epochs']}\")"
   ]
  },
  {
   "cell_type": "code",
   "execution_count": null,
   "metadata": {},
   "outputs": [
    {
     "ename": "SyntaxError",
     "evalue": "invalid syntax (1663213852.py, line 1)",
     "output_type": "error",
     "traceback": [
      "\u001b[0;36m  Cell \u001b[0;32mIn[5], line 1\u001b[0;36m\u001b[0m\n\u001b[0;31m    python main.py --config mistral --mode effi_cot --dataset gsm8k --device 3 --variation vanilla -stllr 0.0001 -stlwd 0.001 -stle 3 -stllmlr 1e-07 -stllmwd 1e-05 -stllme 1 -cgllr 0.01 -cglwd 0.0001 -cgle 1 -cgllmlr 1e-07 -cgllmwd 1e-05 -cgllme 2\u001b[0m\n\u001b[0m           ^\u001b[0m\n\u001b[0;31mSyntaxError\u001b[0m\u001b[0;31m:\u001b[0m invalid syntax\n"
     ]
    }
   ],
   "source": [
    "python main.py --config mistral --mode effi_cot --dataset multiarith --device 1 --variation vanilla -stllr 0.0001 -stlwd 0.01 -stle 1 -stllmlr 1e-07 -stllmwd 0.001 -stllme 2 -cgllr 0.001 -cglwd 0.0001 -cgle 5 -cgllmlr 1e-07 -cgllmwd 0.001 -cgllme 1\n"
   ]
  },
  {
   "cell_type": "code",
   "execution_count": null,
   "metadata": {},
   "outputs": [],
   "source": [
    "python main.py --config mistral --mode effi_cot --dataset multiarith --device 2 --variation vanilla -stllr 0.0001 -stlwd 0.001 -stle 3 -stllmlr 1e-05 -stllmwd 0.001 -stllme 2 -cgllr 0.0001 -cglwd 0.01 -cgle 3 -cgllmlr 1e-05 -cgllmwd 0.001 -cgllme 1 && python main.py --config mistral --mode effi_cot --dataset multiarith --device 2 --variation vanilla -stllr 0.0001 -stlwd 0.01 -stle 1 -stllmlr 1e-07 -stllmwd 0.001 -stllme 2 -cgllr 0.01 -cglwd 0.0001 -cgle 5 -cgllmlr 1e-05 -cgllmwd 0.001 -cgllme 1 && python main.py --config mistral --mode effi_cot --dataset multiarith --device 2 --variation vanilla -stllr 0.0001 -stlwd 0.01 -stle 1 -stllmlr 1e-07 -stllmwd 0.001 -stllme 2 -cgllr 0.01 -cglwd 0.0001 -cgle 5 -cgllmlr 1e-07 -cgllmwd 0.001 -cgllme 2 && python main.py --config mistral --mode effi_cot --dataset multiarith --device 2 --variation vanilla -stllr 0.0001 -stlwd 0.01 -stle 1 -stllmlr 1e-07 -stllmwd 0.001 -stllme 2 -cgllr 0.01 -cglwd 0.01 -cgle 5 -cgllmlr 1e-07 -cgllmwd 0.001 -cgllme 1"
   ]
  },
  {
   "cell_type": "code",
   "execution_count": null,
   "metadata": {},
   "outputs": [],
   "source": [
    "                                                     &                                                        &          & {\\large Coconut}                                  & {\\large CODI}                                              & {\\large ICoT-SI}                                           & {\\large Pause}            & {\\large SoftCoT}                                          & {\\large \\textbf{SemCoT} (ours)}            \\\\ \\hline\n",
    "                                                     &                                                        & Acc (\\%) & 32.67 \\scriptsize{± 1.93}                         & 66.33 \\scriptsize{± 11.05}                                 & 25.33 \\scriptsize{± 0.85}                                  & 50.50 \\scriptsize{± 0.00} & \\cellcolor[HTML]{D1E6F6}73.17 \\scriptsize{± 1.25}         & \\cellcolor[HTML]{E3EFDA}\\textbf{90.00 \\scriptsize{± 9.91}}  \\\\\n",
    "                                                     & \\multirow{-2}{*}{{\\large CoinFlip}}   & Time (s) & 1.99 \\scriptsize{± 0.12}                          & 4.08 \\scriptsize{± 0.12}                                   & 2.22 \\scriptsize{± 0.01}                                   & 3.14 \\scriptsize{± 0.00}  & \\cellcolor[HTML]{E3EFDA}\\textbf{1.31 \\scriptsize{± 0.00}} & \\cellcolor[HTML]{D1E6F6}1.32 \\scriptsize{± 0.00}            \\\\ \\cline{2-9} \n",
    "                                                     &                                                        & Acc (\\%) & 13.00 \\scriptsize{± 0.41}                         & \\cellcolor[HTML]{D1E6F6}74.50 \\scriptsize{± 12.29}         & 20.00 \\scriptsize{± 1.41}                                  & 50.00 \\scriptsize{± 0.00} & 63.50 \\scriptsize{± 0.41}                                 & \\cellcolor[HTML]{E3EFDA}\\textbf{76.83 \\scriptsize{± 10.02}} \\\\\n",
    "                                                     & \\multirow{-2}{*}{{\\large Common}}     & Time (s) & 1.62 \\scriptsize{± 0.01}                          & 3.89 \\scriptsize{± 0.01}                                   & 2.24 \\scriptsize{± 0.00}                                   & 2.67 \\scriptsize{± 0.01}  & \\cellcolor[HTML]{D1E6F6}1.27 \\scriptsize{± 0.07}          & \\cellcolor[HTML]{E3EFDA}\\textbf{1.26 \\scriptsize{± 0.02}}   \\\\ \\cline{2-9} \n",
    "                                                     &                                                        & Acc (\\%) & 6.50 \\scriptsize{± 1.22}                          & 8.17 \\scriptsize{± 5.07}                                   & \\cellcolor[HTML]{D1E6F6}9.83 \\scriptsize{± 0.24}           & 4.67 \\scriptsize{± 0.62}  & 2.17 \\scriptsize{± 0.47}                                  & \\cellcolor[HTML]{E3EFDA}\\textbf{11.00 \\scriptsize{± 6.72}}  \\\\\n",
    "                                                     & \\multirow{-2}{*}{{\\large GSM8K}}      & Time (s) & 1.58 \\scriptsize{± 0.01}                          & 2.82 \\scriptsize{± 1.61}                                   & 1.93 \\scriptsize{± 0.23}                                   & 3.40 \\scriptsize{± 0.03}  & \\cellcolor[HTML]{D1E6F6}1.35 \\scriptsize{± 0.01}          & \\cellcolor[HTML]{E3EFDA}\\textbf{1.31 \\scriptsize{± 0.00}}   \\\\ \\cline{2-9} \n",
    "                                                     &                                                        & Acc (\\%) & 2.23 \\scriptsize{± 0.45}                          & \\cellcolor[HTML]{D1E6F6}8.17 \\scriptsize{± 7.34}           & 2.80 \\scriptsize{± 0.90}                                   & 0.57 \\scriptsize{± 0.45}  & 4.43 \\scriptsize{± 1.20}                                  & \\cellcolor[HTML]{E3EFDA}\\textbf{10.73 \\scriptsize{± 0.52}}  \\\\\n",
    "                                                     & \\multirow{-2}{*}{{\\large MultiArith}} & Time (s) & \\cellcolor[HTML]{D1E6F6}1.57 \\scriptsize{± 0.01}  & 4.15 \\scriptsize{± 0.37}                                   & 2.26 \\scriptsize{± 0.00}                                   & 3.56 \\scriptsize{± 0.11}  & 1.43 \\scriptsize{± 0.06}                                  & \\cellcolor[HTML]{E3EFDA}\\textbf{1.28 \\scriptsize{± 0.03}}   \\\\ \\cline{2-9} \n",
    "                                                     &                                                        & Acc (\\%) & 8.50 \\scriptsize{± 1.22}                          & 11.33 \\scriptsize{± 4.52}                                  & \\cellcolor[HTML]{D1E6F6}19.67 \\scriptsize{± 5.57}          & 16.17 \\scriptsize{± 4.73} & 6.17 \\scriptsize{± 0.94}                                  & \\cellcolor[HTML]{E3EFDA}\\textbf{43.67 \\scriptsize{± 2.09}}  \\\\\n",
    "\\multirow{-10}{*}{{\\large Llama}}   & \\multirow{-2}{*}{{\\large SVAMP}}      & Time (s) & 1.58 \\scriptsize{± 0.01}                          & 3.19 \\scriptsize{± 0.53}                                   & \\cellcolor[HTML]{E3EFDA}\\textbf{0.43 \\scriptsize{± 0.04}}  & 3.32 \\scriptsize{± 0.04}  & 1.31 \\scriptsize{± 0.00}                                  & \\cellcolor[HTML]{D1E6F6}1.30 \\scriptsize{± 0.02}            \\\\ \\hline\n",
    "                                                     &                                                        & Acc (\\%) & 2.17 \\scriptsize{± 1.25}                          & \\cellcolor[HTML]{D1E6F6}87.17 \\scriptsize{± 18.15}         & 33.83 \\scriptsize{± 2.87}                                  & 50.00 \\scriptsize{± 0.00} & 41.00 \\scriptsize{± 2.55}                                 & \\cellcolor[HTML]{E3EFDA}\\textbf{87.83 \\scriptsize{± 6.54}}  \\\\\n",
    "                                                     & \\multirow{-2}{*}{{\\large CoinFlip}}   & Time (s) & 1.68 \\scriptsize{± 0.00}                          & 4.32 \\scriptsize{± 0.04}                                   & 2.30 \\scriptsize{± 0.00}                                   & 3.74 \\scriptsize{± 0.02}  & \\cellcolor[HTML]{D1E6F6}1.39 \\scriptsize{± 0.00}          & \\cellcolor[HTML]{E3EFDA}\\textbf{1.37 \\scriptsize{± 0.01}}   \\\\ \\cline{2-9} \n",
    "                                                     &                                                        & Acc (\\%) & 14.50 \\scriptsize{± 0.00}                         & \\cellcolor[HTML]{D1E6F6}80.17 \\scriptsize{± 16.41}         & 21.17 \\scriptsize{± 2.05}                                  & 63.50 \\scriptsize{± 0.00} & 62.67 \\scriptsize{± 1.18}                                 & \\cellcolor[HTML]{E3EFDA}\\textbf{81.67 \\scriptsize{± 2.78}}  \\\\\n",
    "                                                     & \\multirow{-2}{*}{{\\large Common}}     & Time (s) & 1.67 \\scriptsize{± 0.00}                          & 4.14 \\scriptsize{± 0.00}                                   & 2.29 \\scriptsize{± 0.00}                                   & 3.71 \\scriptsize{± 0.03}  & \\cellcolor[HTML]{D1E6F6}1.37 \\scriptsize{± 0.00}          & \\cellcolor[HTML]{E3EFDA}\\textbf{1.35 \\scriptsize{± 0.03}}   \\\\ \\cline{2-9} \n",
    "                                                     &                                                        & Acc (\\%) & 9.67 \\scriptsize{± 0.24}                          & 4.33 \\scriptsize{± 3.47}                                   & \\cellcolor[HTML]{E3EFDA}\\textbf{14.67 \\scriptsize{± 2.09}} & 2.33 \\scriptsize{± 1.65}  & 2.50 \\scriptsize{± 0.41}                                  & \\cellcolor[HTML]{D1E6F6}14.33 \\scriptsize{± 0.62}           \\\\\n",
    "                                                     & \\multirow{-2}{*}{{\\large GSM8K}}      & Time (s) & \\cellcolor[HTML]{D1E6F6}1.68 \\scriptsize{± 0.01}  & 4.96 \\scriptsize{± 0.03}                                   & 1.72 \\scriptsize{± 0.08}                                   & 3.46 \\scriptsize{± 0.02}  & \\cellcolor[HTML]{E3EFDA}\\textbf{1.39 \\scriptsize{± 0.00}} & \\cellcolor[HTML]{E3EFDA}\\textbf{1.39 \\scriptsize{± 0.00}}   \\\\ \\cline{2-9} \n",
    "                                                     &                                                        & Acc (\\%) & 2.43 \\scriptsize{± 0.52}                          & \\cellcolor[HTML]{E3EFDA}\\textbf{19.47 \\scriptsize{± 9.32}} & 3.67 \\scriptsize{± 0.52}                                   & 1.47 \\scriptsize{± 1.04}  & 3.33 \\scriptsize{± 0.45}                                  & \\cellcolor[HTML]{D1E6F6}19.07 \\scriptsize{± 2.23}           \\\\\n",
    "                                                     & \\multirow{-2}{*}{{\\large MultiArith}} & Time (s) & 1.68 \\scriptsize{± 0.01}                          & 4.45 \\scriptsize{± 0.62}                                   & 2.32 \\scriptsize{± 0.01}                                   & 3.64 \\scriptsize{± 0.13}  & \\cellcolor[HTML]{E3EFDA}\\textbf{1.37 \\scriptsize{± 0.00}} & \\cellcolor[HTML]{D1E6F6}1.50 \\scriptsize{± 0.16}            \\\\ \\cline{2-9} \n",
    "                                                     &                                                        & Acc (\\%) & \\cellcolor[HTML]{D1E6F6}34.00 \\scriptsize{± 0.82} & 14.83 \\scriptsize{± 9.10}                                  & 32.50 \\scriptsize{± 3.54}                                  & 7.50 \\scriptsize{± 5.31}  & 10.67 \\scriptsize{± 1.03}                                 & \\cellcolor[HTML]{E3EFDA}\\textbf{46.17 \\scriptsize{± 1.25}}  \\\\\n",
    "\\multirow{-10}{*}{{\\large Mistral}} & \\multirow{-2}{*}{{\\large SVAMP}}      & Time (s) & 1.69 \\scriptsize{± 0.00}                          & 4.08 \\scriptsize{± 0.03}                                   & \\cellcolor[HTML]{E3EFDA}\\textbf{0.90 \\scriptsize{± 0.19}}  & 3.44 \\scriptsize{± 0.01}  & 1.38 \\scriptsize{± 0.00}                                  & \\cellcolor[HTML]{D1E6F6}1.37 \\scriptsize{± 0.01}            \\\\"
   ]
  }
 ],
 "metadata": {
  "kernelspec": {
   "display_name": "Python 3",
   "language": "python",
   "name": "python3"
  },
  "language_info": {
   "codemirror_mode": {
    "name": "ipython",
    "version": 3
   },
   "file_extension": ".py",
   "mimetype": "text/x-python",
   "name": "python",
   "nbconvert_exporter": "python",
   "pygments_lexer": "ipython3",
   "version": "3.10.16"
  }
 },
 "nbformat": 4,
 "nbformat_minor": 2
}
