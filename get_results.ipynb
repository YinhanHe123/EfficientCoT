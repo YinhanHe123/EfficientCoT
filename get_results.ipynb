{
 "cells": [
  {
   "cell_type": "code",
   "execution_count": 3,
   "metadata": {},
   "outputs": [],
   "source": [
    "import json\n",
    "import os\n",
    "\n",
    "import numpy as np\n",
    "\n",
    "res_dir = \"/home/nee7ne/EfficientCoT/results\"\n",
    "methods = ['coconut', 'codi', 'icot_si', 'pause', 'softcot', 'effi_cot']\n",
    "datasets = [\"coin_flip\", \"commonsense_qa\", \"gsm8k\", \"multiarith\", \"svamp\"]\n",
    "models = [\"small\", \"mistral\"]\n",
    "res = {}\n",
    "\n",
    "for mo in models:\n",
    "    res[mo] = {}\n",
    "    for me in methods:\n",
    "        res[mo][me] = {}\n",
    "        for d in datasets:\n",
    "            res[mo][me][d] = {}\n",
    "            file = f\"{res_dir}/{me}/{mo}/{d}/evaluation_results.jsonl\"\n",
    "            if me == \"effi_cot\":\n",
    "                file = f\"{res_dir}/{me}/vanilla/{mo}/{d}/evaluation_results.jsonl\"\n",
    "            if not os.path.exists(file):\n",
    "                continue\n",
    "            with open(file) as f:\n",
    "                lines = f.readlines()\n",
    "                idx = [i for i, l in enumerate(lines) if l == \"\\n\"]\n",
    "                if len(idx) == 0:\n",
    "                    idx = 0\n",
    "                elif idx[-1] == len(lines) - 1:\n",
    "                    idx = 0\n",
    "                else:\n",
    "                    idx = idx[-1] + 1\n",
    "                lines = [json.loads(l) for l in lines[idx:] if l != \"\\n\"]\n",
    "            summary = {}\n",
    "            for l in lines:\n",
    "                if l['eval_temp'] not in summary:\n",
    "                    summary[l['eval_temp']] = {'acc': [], 'time': []}\n",
    "                summary[l['eval_temp']]['acc'].append(l['numerical_accuracy'] * 100)\n",
    "                summary[l['eval_temp']]['time'].append(l['ave_sample_time'])\n",
    "            best_temp, max_acc = 0, -1\n",
    "            for temp in summary:\n",
    "                if np.mean(summary[temp]['acc']) > max_acc:\n",
    "                    best_temp = temp\n",
    "                    max_acc = np.mean(summary[temp]['acc'])\n",
    "            res[mo][me][d] = {'acc': summary[best_temp]['acc'], 'time': summary[best_temp]['time']}\n"
   ]
  },
  {
   "cell_type": "code",
   "execution_count": 4,
   "metadata": {},
   "outputs": [
    {
     "name": "stdout",
     "output_type": "stream",
     "text": [
      "30.00 ± 0.00\t66.33 ± 11.05\t25.33 ± 0.85\t50.50 ± 0.00\t73.17 ± 1.25\t79.00 ± 16.13\t\n",
      "2.21 ± 0.00\t4.08 ± 0.12\t2.22 ± 0.01\t3.14 ± 0.00\t1.31 ± 0.00\t1.32 ± 0.00\t\n",
      "13.00 ± 0.41\t74.50 ± 12.29\t20.00 ± 1.41\t50.00 ± 0.00\t63.50 ± 0.41\t66.14 ± 7.69\t\n",
      "1.62 ± 0.01\t3.89 ± 0.01\t2.24 ± 0.00\t2.67 ± 0.01\t1.27 ± 0.07\t1.35 ± 0.14\t\n",
      "6.50 ± 1.22\t8.17 ± 5.07\t9.83 ± 0.24\t4.67 ± 0.62\t2.17 ± 0.47\t10.00 ± 6.01\t\n",
      "1.58 ± 0.01\t2.82 ± 1.61\t1.93 ± 0.23\t3.40 ± 0.03\t1.35 ± 0.01\t1.45 ± 0.15\t\n",
      "2.23 ± 0.45\t8.17 ± 7.34\t2.80 ± 0.90\t0.57 ± 0.45\t4.43 ± 1.20\t12.43 ± 1.04\t\n",
      "1.57 ± 0.01\t4.15 ± 0.37\t2.26 ± 0.00\t3.56 ± 0.11\t1.43 ± 0.06\t1.29 ± 0.01\t\n",
      "8.50 ± 1.22\t11.33 ± 4.52\t19.67 ± 5.57\t16.17 ± 4.73\t6.17 ± 0.94\t37.50 ± 10.61\t\n",
      "1.58 ± 0.01\t3.19 ± 0.53\t0.43 ± 0.04\t3.32 ± 0.04\t1.31 ± 0.00\t1.31 ± 0.00\t\n",
      "2.17 ± 1.25\t87.17 ± 18.15\t33.83 ± 2.87\t50.00 ± 0.00\t41.00 ± 2.55\t87.83 ± 6.54\t\n",
      "1.68 ± 0.00\t4.32 ± 0.04\t2.30 ± 0.00\t3.74 ± 0.02\t1.39 ± 0.00\t1.37 ± 0.01\t\n",
      "14.50 ± 0.00\t80.17 ± 16.41\t21.17 ± 2.05\t63.50 ± 0.00\t62.67 ± 1.18\tN/A\t\n",
      "1.67 ± 0.00\t4.14 ± 0.00\t2.29 ± 0.00\t3.71 ± 0.03\t1.37 ± 0.00\tN/A\t\n",
      "9.67 ± 0.24\t4.33 ± 3.47\t14.67 ± 2.09\t2.33 ± 1.65\t2.50 ± 0.41\t14.33 ± 0.62\t\n",
      "1.68 ± 0.01\t4.96 ± 0.03\t1.72 ± 0.08\t3.46 ± 0.02\t1.39 ± 0.00\t1.39 ± 0.00\t\n",
      "2.43 ± 0.52\t19.47 ± 9.32\t3.67 ± 0.52\t1.47 ± 1.04\t3.33 ± 0.45\t15.60 ± 0.00\t\n",
      "1.68 ± 0.01\t4.45 ± 0.62\t2.32 ± 0.01\t3.64 ± 0.13\t1.37 ± 0.00\t1.38 ± 0.00\t\n",
      "34.00 ± 0.82\t14.83 ± 9.10\t32.50 ± 3.54\t7.50 ± 5.31\t10.67 ± 1.03\t47.83 ± 0.85\t\n",
      "1.69 ± 0.00\t4.08 ± 0.03\t0.90 ± 0.19\t3.44 ± 0.01\t1.38 ± 0.00\t1.51 ± 0.09\t\n"
     ]
    }
   ],
   "source": [
    "for mo in models:\n",
    "    for d in sorted(datasets):\n",
    "        acc_line = \"\"\n",
    "        time_line = \"\"\n",
    "        m = \"\"\n",
    "        for me in methods:\n",
    "            m += me + \"\\t\"\n",
    "            cur_acc = \"N/A\\t\"\n",
    "            cur_time = \"N/A\\t\"\n",
    "            if len(res[mo][me][d]) > 0:\n",
    "                cur_acc = f\"{np.mean(res[mo][me][d]['acc']):.2f} ± {np.std(res[mo][me][d]['acc']):.2f}\\t\"\n",
    "                cur_time = f\"{np.mean(res[mo][me][d]['time']):.2f} ± {np.std(res[mo][me][d]['time']):.2f}\\t\"\n",
    "            acc_line += cur_acc\n",
    "            time_line += cur_time\n",
    "        print(acc_line)\n",
    "        print(time_line)"
   ]
  }
 ],
 "metadata": {
  "kernelspec": {
   "display_name": "Python 3",
   "language": "python",
   "name": "python3"
  },
  "language_info": {
   "codemirror_mode": {
    "name": "ipython",
    "version": 3
   },
   "file_extension": ".py",
   "mimetype": "text/x-python",
   "name": "python",
   "nbconvert_exporter": "python",
   "pygments_lexer": "ipython3",
   "version": "3.10.16"
  }
 },
 "nbformat": 4,
 "nbformat_minor": 2
}
