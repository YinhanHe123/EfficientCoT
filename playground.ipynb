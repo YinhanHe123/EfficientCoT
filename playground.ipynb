{
 "cells": [
  {
   "cell_type": "markdown",
   "metadata": {},
   "source": [
    "# Examine the dataset which chatgpt 4o mini selects"
   ]
  },
  {
   "cell_type": "code",
   "execution_count": 1,
   "metadata": {},
   "outputs": [
    {
     "name": "stdout",
     "output_type": "stream",
     "text": [
      "{'student_model_name': 'princeton-nlp/Sheared-LLaMA-1.3B', 'teacher_model_name': 'princeton-nlp/Sheared-LLaMA-1.3B', 'teacher_hidden_dim': 4096, 'student_hidden_dim': 2048, 'device': 0}\n",
      "\n",
      "Keys in the .pt file:\n",
      "student_model_name\n",
      "teacher_model_name\n",
      "teacher_hidden_dim\n",
      "student_hidden_dim\n",
      "device\n",
      "\n",
      "Example of accessing a specific item (if applicable):\n"
     ]
    }
   ],
   "source": [
    "import torch\n",
    "\n",
    "try:\n",
    "    file_path = '/data/nee7ne/effi_cot/saved_models/effi_cot/no_sentence_transformer/gsm8k/contemp_generator/config.pt'\n",
    "    pt_file = torch.load(file_path)\n",
    "    print(pt_file)\n",
    "\n",
    "    if isinstance(pt_file, dict):\n",
    "        print(\"\\nKeys in the .pt file:\")\n",
    "        for key in pt_file.keys():\n",
    "            print(key)\n",
    "\n",
    "        print(\"\\nExample of accessing a specific item (if applicable):\")\n",
    "        # Replace 'your_key' with an actual key from the file\n",
    "        if 'your_key' in pt_file:\n",
    "            print(pt_file['your_key'])\n",
    "\n",
    "    elif isinstance(pt_file, torch.Tensor):\n",
    "        print(\"\\nIt's a Tensor. If it's large, consider adjusting print options:\")\n",
    "        # Adjust threshold to print the entire tensor if it's large\n",
    "        import numpy as np\n",
    "        np.set_printoptions(threshold=np.inf)\n",
    "        print(pt_file)\n",
    "\n",
    "    # Handle other potential types or structures as needed\n",
    "\n",
    "except FileNotFoundError:\n",
    "    print(f\"Error: The file '{file_path}' was not found.\")\n",
    "except Exception as e:\n",
    "    print(f\"An error occurred: {e}\")"
   ]
  }
 ],
 "metadata": {
  "kernelspec": {
   "display_name": "Python 3",
   "language": "python",
   "name": "python3"
  },
  "language_info": {
   "codemirror_mode": {
    "name": "ipython",
    "version": 3
   },
   "file_extension": ".py",
   "mimetype": "text/x-python",
   "name": "python",
   "nbconvert_exporter": "python",
   "pygments_lexer": "ipython3",
   "version": "3.10.16"
  }
 },
 "nbformat": 4,
 "nbformat_minor": 2
}
