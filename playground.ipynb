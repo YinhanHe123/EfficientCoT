{
 "cells": [
  {
   "cell_type": "code",
   "execution_count": 3,
   "metadata": {},
   "outputs": [],
   "source": [
    "import torch\n",
    "import torch.nn as nn\n",
    "import torch.optim as optim\n",
    "from torch.utils.data import DataLoader, TensorDataset\n",
    "import numpy as np\n",
    "from accelerate import Accelerator\n",
    "\n",
    "# Initialize accelerator\n",
    "accelerator = Accelerator()\n",
    "\n",
    "# Define a simple 2-layer MLP\n",
    "class MLP(nn.Module):\n",
    "    def __init__(self, input_size=784, hidden_size=256, output_size=10):\n",
    "        super(MLP, self).__init__()\n",
    "        self.layer1 = nn.Linear(input_size, hidden_size)\n",
    "        self.relu = nn.ReLU()\n",
    "        self.layer2 = nn.Linear(hidden_size, output_size)\n",
    "\n",
    "    def forward(self, x):\n",
    "        x = self.layer1(x)\n",
    "        x = self.relu(x)\n",
    "        x = self.layer2(x)\n",
    "        return x\n"
   ]
  },
  {
   "cell_type": "code",
   "execution_count": 4,
   "metadata": {},
   "outputs": [],
   "source": [
    "# Create synthetic data for demonstration\n",
    "def create_dummy_data(num_samples=10000, input_size=784, num_classes=10):\n",
    "    X = np.random.randn(num_samples, input_size).astype(np.float32)\n",
    "    y = np.random.randint(0, num_classes, size=(num_samples,)).astype(np.int64)\n",
    "    return X, y\n"
   ]
  },
  {
   "cell_type": "code",
   "execution_count": 5,
   "metadata": {},
   "outputs": [],
   "source": [
    "# Training function\n",
    "def train_model(model, train_loader, optimizer, criterion, num_epochs=5):\n",
    "    model.train()\n",
    "\n",
    "    for epoch in range(num_epochs):\n",
    "        running_loss = 0.0\n",
    "        correct = 0\n",
    "        total = 0\n",
    "\n",
    "        for inputs, labels in train_loader:\n",
    "            # Forward pass\n",
    "            outputs = model(inputs)\n",
    "            loss = criterion(outputs, labels)\n",
    "\n",
    "            # Backward and optimize\n",
    "            optimizer.zero_grad()\n",
    "            accelerator.backward(loss)  # Use accelerator.backward instead of loss.backward()\n",
    "            optimizer.step()\n",
    "\n",
    "            running_loss += loss.item()\n",
    "\n",
    "            # Calculate accuracy\n",
    "            _, predicted = torch.max(outputs.data, 1)\n",
    "            total += labels.size(0)\n",
    "            correct += (predicted == labels).sum().item()\n",
    "\n",
    "        # Print statistics\n",
    "        epoch_loss = running_loss / len(train_loader)\n",
    "        epoch_acc = 100 * correct / total\n",
    "\n",
    "        print(f'Epoch {epoch+1}/{num_epochs}, Loss: {epoch_loss:.4f}, Accuracy: {epoch_acc:.2f}%')\n",
    "\n"
   ]
  },
  {
   "cell_type": "code",
   "execution_count": 7,
   "metadata": {},
   "outputs": [],
   "source": [
    "def main():\n",
    "    # Hyperparameters\n",
    "    input_size = 784\n",
    "    hidden_size = 256\n",
    "    output_size = 10\n",
    "    batch_size = 128\n",
    "    learning_rate = 0.001\n",
    "    num_epochs = 5\n",
    "\n",
    "    # Create model, loss function, and optimizer\n",
    "    model = MLP(input_size, hidden_size, output_size)\n",
    "    criterion = nn.CrossEntropyLoss()\n",
    "    optimizer = optim.Adam(model.parameters(), lr=learning_rate)\n",
    "\n",
    "    # Generate synthetic data\n",
    "    X_train, y_train = create_dummy_data(num_samples=10000, input_size=input_size, num_classes=output_size)\n",
    "\n",
    "    # Create DataLoader\n",
    "    train_dataset = TensorDataset(torch.from_numpy(X_train), torch.from_numpy(y_train))\n",
    "    train_loader = DataLoader(train_dataset, batch_size=batch_size, shuffle=True)\n",
    "\n",
    "    # Prepare for distributed training with accelerate\n",
    "    model, optimizer, train_loader = accelerator.prepare(model, optimizer, train_loader)\n",
    "\n",
    "    # Train the model\n",
    "    train_model(model, train_loader, optimizer, criterion, num_epochs)\n",
    "\n",
    "    # Save the model (unwrapped)\n",
    "    unwrapped_model = accelerator.unwrap_model(model)\n",
    "    torch.save(unwrapped_model.state_dict(), \"mlp_model.pth\")\n",
    "    print(\"Model saved successfully!\")\n",
    "\n"
   ]
  },
  {
   "cell_type": "code",
   "execution_count": 9,
   "metadata": {},
   "outputs": [
    {
     "name": "stdout",
     "output_type": "stream",
     "text": [
      "Epoch 1/5, Loss: 2.3321, Accuracy: 9.90%\n",
      "Epoch 2/5, Loss: 2.0208, Accuracy: 34.48%\n",
      "Epoch 3/5, Loss: 1.7389, Accuracy: 44.91%\n",
      "Epoch 4/5, Loss: 1.4197, Accuracy: 57.77%\n",
      "Epoch 5/5, Loss: 1.0609, Accuracy: 73.23%\n",
      "Model saved successfully!\n"
     ]
    }
   ],
   "source": [
    "if __name__ == \"__main__\":\n",
    "    main()"
   ]
  }
 ],
 "metadata": {
  "kernelspec": {
   "display_name": "Python 3",
   "language": "python",
   "name": "python3"
  },
  "language_info": {
   "codemirror_mode": {
    "name": "ipython",
    "version": 3
   },
   "file_extension": ".py",
   "mimetype": "text/x-python",
   "name": "python",
   "nbconvert_exporter": "python",
   "pygments_lexer": "ipython3",
   "version": "3.10.16"
  }
 },
 "nbformat": 4,
 "nbformat_minor": 2
}
